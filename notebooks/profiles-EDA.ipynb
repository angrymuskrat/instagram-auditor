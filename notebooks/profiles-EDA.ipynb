{
 "cells": [
  {
   "cell_type": "code",
   "execution_count": 33,
   "metadata": {},
   "outputs": [],
   "source": [
    "import numpy as np\n",
    "import pandas as pd\n",
    "from pymongo import MongoClient\n",
    "import base64\n",
    "import io\n",
    "from PIL import Image\n",
    "from IPython.core.interactiveshell import InteractiveShell\n",
    "InteractiveShell.ast_node_interactivity = \"all\""
   ]
  },
  {
   "cell_type": "code",
   "execution_count": 16,
   "metadata": {},
   "outputs": [],
   "source": [
    "SERVER_IP = \"213.136.94.240\"\n",
    "USERNAME = \"admin\"\n",
    "PASSWORD = \"04061997\"\n",
    "\n",
    "client = MongoClient(host=SERVER_IP, username=USERNAME, password=PASSWORD)"
   ]
  },
  {
   "cell_type": "code",
   "execution_count": 17,
   "metadata": {},
   "outputs": [],
   "source": [
    "db = client.instagramAuditor"
   ]
  },
  {
   "cell_type": "code",
   "execution_count": 18,
   "metadata": {},
   "outputs": [],
   "source": [
    "profiles = db.profiles"
   ]
  },
  {
   "cell_type": "code",
   "execution_count": 29,
   "metadata": {},
   "outputs": [
    {
     "name": "stdout",
     "output_type": "stream",
     "text": [
      "Time:  449.13375040000005\n"
     ]
    }
   ],
   "source": [
    "import timeit\n",
    "\n",
    "start = timeit.default_timer()\n",
    "#full_test_profiles = list(profiles.find({}).limit(3))\n",
    "profiles_data = list(profiles.find({}, {\"id\": 1, \"username\": 1, \"fullname\":1,\"biography\":1,\n",
    "                                   \"followedby\":1,\"follow\":1,\"isbusinessaccount\":1,\n",
    "                                   \"isjoinedrecently\":1,\"businesscategoryname\":1,\"categoryid\":1,\n",
    "                                  \"isprivate\":1,\"isverified\":1,\"connectedfbpage\":1,\n",
    "                                  \"postscount\":1}).limit(65000))\n",
    "#est. 6800 sec\n",
    "stop = timeit.default_timer()\n",
    "\n",
    "print('Time: ', stop - start)  \n"
   ]
  },
  {
   "cell_type": "code",
   "execution_count": 30,
   "metadata": {},
   "outputs": [],
   "source": [
    "X = profiles_data.copy()\n",
    "df = pd.DataFrame(X) \n",
    "profiles_subset = df.copy()\n",
    "embeddings_len = 512"
   ]
  },
  {
   "cell_type": "code",
   "execution_count": 34,
   "metadata": {},
   "outputs": [
    {
     "data": {
      "text/html": [
       "<div>\n",
       "<style scoped>\n",
       "    .dataframe tbody tr th:only-of-type {\n",
       "        vertical-align: middle;\n",
       "    }\n",
       "\n",
       "    .dataframe tbody tr th {\n",
       "        vertical-align: top;\n",
       "    }\n",
       "\n",
       "    .dataframe thead th {\n",
       "        text-align: right;\n",
       "    }\n",
       "</style>\n",
       "<table border=\"1\" class=\"dataframe\">\n",
       "  <thead>\n",
       "    <tr style=\"text-align: right;\">\n",
       "      <th></th>\n",
       "      <th>followedby</th>\n",
       "      <th>follow</th>\n",
       "      <th>postscount</th>\n",
       "    </tr>\n",
       "  </thead>\n",
       "  <tbody>\n",
       "    <tr>\n",
       "      <td>count</td>\n",
       "      <td>6.500000e+04</td>\n",
       "      <td>65000.000000</td>\n",
       "      <td>65000.000000</td>\n",
       "    </tr>\n",
       "    <tr>\n",
       "      <td>mean</td>\n",
       "      <td>2.609873e+03</td>\n",
       "      <td>483.317754</td>\n",
       "      <td>362.600169</td>\n",
       "    </tr>\n",
       "    <tr>\n",
       "      <td>std</td>\n",
       "      <td>1.048457e+05</td>\n",
       "      <td>870.182484</td>\n",
       "      <td>960.178577</td>\n",
       "    </tr>\n",
       "    <tr>\n",
       "      <td>min</td>\n",
       "      <td>0.000000e+00</td>\n",
       "      <td>0.000000</td>\n",
       "      <td>0.000000</td>\n",
       "    </tr>\n",
       "    <tr>\n",
       "      <td>25%</td>\n",
       "      <td>1.400000e+02</td>\n",
       "      <td>109.000000</td>\n",
       "      <td>42.000000</td>\n",
       "    </tr>\n",
       "    <tr>\n",
       "      <td>50%</td>\n",
       "      <td>3.640000e+02</td>\n",
       "      <td>243.000000</td>\n",
       "      <td>132.000000</td>\n",
       "    </tr>\n",
       "    <tr>\n",
       "      <td>75%</td>\n",
       "      <td>8.470000e+02</td>\n",
       "      <td>481.000000</td>\n",
       "      <td>390.000000</td>\n",
       "    </tr>\n",
       "    <tr>\n",
       "      <td>max</td>\n",
       "      <td>2.626624e+07</td>\n",
       "      <td>7520.000000</td>\n",
       "      <td>103802.000000</td>\n",
       "    </tr>\n",
       "  </tbody>\n",
       "</table>\n",
       "</div>"
      ],
      "text/plain": [
       "         followedby        follow     postscount\n",
       "count  6.500000e+04  65000.000000   65000.000000\n",
       "mean   2.609873e+03    483.317754     362.600169\n",
       "std    1.048457e+05    870.182484     960.178577\n",
       "min    0.000000e+00      0.000000       0.000000\n",
       "25%    1.400000e+02    109.000000      42.000000\n",
       "50%    3.640000e+02    243.000000     132.000000\n",
       "75%    8.470000e+02    481.000000     390.000000\n",
       "max    2.626624e+07   7520.000000  103802.000000"
      ]
     },
     "execution_count": 34,
     "metadata": {},
     "output_type": "execute_result"
    },
    {
     "data": {
      "text/plain": [
       "Index(['_id', 'id', 'username', 'fullname', 'biography', 'followedby',\n",
       "       'follow', 'isbusinessaccount', 'isjoinedrecently',\n",
       "       'businesscategoryname', 'categoryid', 'isprivate', 'isverified',\n",
       "       'connectedfbpage', 'postscount'],\n",
       "      dtype='object')"
      ]
     },
     "execution_count": 34,
     "metadata": {},
     "output_type": "execute_result"
    }
   ],
   "source": [
    "df.describe()\n",
    "df.columns"
   ]
  },
  {
   "cell_type": "code",
   "execution_count": 73,
   "metadata": {},
   "outputs": [],
   "source": [
    "categorical_fields = ['isbusinessaccount','isprivate','isverified','connectedfbpage','isjoinedrecently']\n",
    "int_fields = ['followedby','follow','postscount']\n"
   ]
  },
  {
   "cell_type": "code",
   "execution_count": 93,
   "metadata": {},
   "outputs": [
    {
     "data": {
      "text/html": [
       "<div>\n",
       "<style scoped>\n",
       "    .dataframe tbody tr th:only-of-type {\n",
       "        vertical-align: middle;\n",
       "    }\n",
       "\n",
       "    .dataframe tbody tr th {\n",
       "        vertical-align: top;\n",
       "    }\n",
       "\n",
       "    .dataframe thead th {\n",
       "        text-align: right;\n",
       "    }\n",
       "</style>\n",
       "<table border=\"1\" class=\"dataframe\">\n",
       "  <thead>\n",
       "    <tr style=\"text-align: right;\">\n",
       "      <th></th>\n",
       "      <th>isbusinessaccount</th>\n",
       "      <th>isprivate</th>\n",
       "      <th>isverified</th>\n",
       "      <th>connectedfbpage</th>\n",
       "      <th>isjoinedrecently</th>\n",
       "    </tr>\n",
       "  </thead>\n",
       "  <tbody>\n",
       "    <tr>\n",
       "      <td>count</td>\n",
       "      <td>65000.000000</td>\n",
       "      <td>65000.000000</td>\n",
       "      <td>65000.000000</td>\n",
       "      <td>65000.0</td>\n",
       "      <td>65000.0</td>\n",
       "    </tr>\n",
       "    <tr>\n",
       "      <td>mean</td>\n",
       "      <td>0.431646</td>\n",
       "      <td>0.048815</td>\n",
       "      <td>0.000723</td>\n",
       "      <td>0.0</td>\n",
       "      <td>0.0</td>\n",
       "    </tr>\n",
       "    <tr>\n",
       "      <td>std</td>\n",
       "      <td>0.495310</td>\n",
       "      <td>0.215484</td>\n",
       "      <td>0.026881</td>\n",
       "      <td>0.0</td>\n",
       "      <td>0.0</td>\n",
       "    </tr>\n",
       "    <tr>\n",
       "      <td>min</td>\n",
       "      <td>0.000000</td>\n",
       "      <td>0.000000</td>\n",
       "      <td>0.000000</td>\n",
       "      <td>0.0</td>\n",
       "      <td>0.0</td>\n",
       "    </tr>\n",
       "    <tr>\n",
       "      <td>25%</td>\n",
       "      <td>0.000000</td>\n",
       "      <td>0.000000</td>\n",
       "      <td>0.000000</td>\n",
       "      <td>0.0</td>\n",
       "      <td>0.0</td>\n",
       "    </tr>\n",
       "    <tr>\n",
       "      <td>50%</td>\n",
       "      <td>0.000000</td>\n",
       "      <td>0.000000</td>\n",
       "      <td>0.000000</td>\n",
       "      <td>0.0</td>\n",
       "      <td>0.0</td>\n",
       "    </tr>\n",
       "    <tr>\n",
       "      <td>75%</td>\n",
       "      <td>1.000000</td>\n",
       "      <td>0.000000</td>\n",
       "      <td>0.000000</td>\n",
       "      <td>0.0</td>\n",
       "      <td>0.0</td>\n",
       "    </tr>\n",
       "    <tr>\n",
       "      <td>max</td>\n",
       "      <td>1.000000</td>\n",
       "      <td>1.000000</td>\n",
       "      <td>1.000000</td>\n",
       "      <td>0.0</td>\n",
       "      <td>0.0</td>\n",
       "    </tr>\n",
       "  </tbody>\n",
       "</table>\n",
       "</div>"
      ],
      "text/plain": [
       "       isbusinessaccount     isprivate    isverified  connectedfbpage  \\\n",
       "count       65000.000000  65000.000000  65000.000000          65000.0   \n",
       "mean            0.431646      0.048815      0.000723              0.0   \n",
       "std             0.495310      0.215484      0.026881              0.0   \n",
       "min             0.000000      0.000000      0.000000              0.0   \n",
       "25%             0.000000      0.000000      0.000000              0.0   \n",
       "50%             0.000000      0.000000      0.000000              0.0   \n",
       "75%             1.000000      0.000000      0.000000              0.0   \n",
       "max             1.000000      1.000000      1.000000              0.0   \n",
       "\n",
       "       isjoinedrecently  \n",
       "count           65000.0  \n",
       "mean                0.0  \n",
       "std                 0.0  \n",
       "min                 0.0  \n",
       "25%                 0.0  \n",
       "50%                 0.0  \n",
       "75%                 0.0  \n",
       "max                 0.0  "
      ]
     },
     "execution_count": 93,
     "metadata": {},
     "output_type": "execute_result"
    }
   ],
   "source": [
    "df[categorical_fields].astype(int).describe()\n",
    "meanful_categorical_fields = ['isbusinessaccount','isprivate','isverified']"
   ]
  },
  {
   "cell_type": "code",
   "execution_count": 102,
   "metadata": {},
   "outputs": [],
   "source": [
    "#df[meanful_categorical_fields].astype(int)\n",
    "df_pie = pd.DataFrame({},columns=meanful_categorical_fields)\n",
    "\n",
    "stat = dict()\n",
    "for binary in meanful_categorical_fields:\n",
    "    \n",
    "    counts = df[binary].value_counts()\n",
    "    stat[binary] = list(counts)"
   ]
  },
  {
   "cell_type": "code",
   "execution_count": 100,
   "metadata": {
    "scrolled": false
   },
   "outputs": [
    {
     "data": {
      "image/png": "[encoded data removed]",
      "text/plain": [
       "<Figure size 1440x1440 with 3 Axes>"
      ]
     },
     "metadata": {},
     "output_type": "display_data"
    }
   ],
   "source": [
    "pie_data = pd.DataFrame(stat,\n",
    "                  index=['Yes', 'No'])\n",
    "\n",
    "plot = pie_data.plot.pie(subplots=True, figsize=(20, 20))"
   ]
  },
  {
   "cell_type": "code",
   "execution_count": 147,
   "metadata": {},
   "outputs": [
    {
     "data": {
      "text/plain": [
       "count    6.500000e+04\n",
       "mean     2.609873e+03\n",
       "std      1.048457e+05\n",
       "min      0.000000e+00\n",
       "25%      1.400000e+02\n",
       "50%      3.640000e+02\n",
       "75%      8.470000e+02\n",
       "max      2.626624e+07\n",
       "Name: followedby, dtype: float64"
      ]
     },
     "execution_count": 147,
     "metadata": {},
     "output_type": "execute_result"
    },
    {
     "data": {
      "text/plain": [
       "169641739"
      ]
     },
     "execution_count": 147,
     "metadata": {},
     "output_type": "execute_result"
    },
    {
     "name": "stdout",
     "output_type": "stream",
     "text": [
      "Top 100 profiles got 37.315908% of overall followers of 65K profiles\n"
     ]
    }
   ],
   "source": [
    "import seaborn as sns\n",
    "import matplotlib.pyplot as plt\n",
    "df['followedby'].describe()\n",
    "overall_followers = df['followedby'].sum()\n",
    "overall_followers\n",
    "top_100 = df['followedby'].sort_values().tail(100).sum()\n",
    "\n",
    "print(\"Top 100 profiles got %f%% of overall followers of 65K profiles\" % (top_100/overall_followers*100))\n"
   ]
  },
  {
   "cell_type": "code",
   "execution_count": 137,
   "metadata": {},
   "outputs": [
    {
     "data": {
      "text/plain": [
       "<matplotlib.axes._subplots.AxesSubplot at 0x2413a28e308>"
      ]
     },
     "execution_count": 137,
     "metadata": {},
     "output_type": "execute_result"
    },
    {
     "data": {
      "image/png": "[encoded data removed]",
      "text/plain": [
       "<Figure size 432x288 with 1 Axes>"
      ]
     },
     "metadata": {
      "needs_background": "light"
     },
     "output_type": "display_data"
    }
   ],
   "source": [
    "sns.distplot(df['followedby'].sort_values().head(64900),hist=False)"
   ]
  },
  {
   "cell_type": "code",
   "execution_count": 148,
   "metadata": {},
   "outputs": [
    {
     "data": {
      "text/plain": [
       "count    65000.000000\n",
       "mean       483.317754\n",
       "std        870.182484\n",
       "min          0.000000\n",
       "25%        109.000000\n",
       "50%        243.000000\n",
       "75%        481.000000\n",
       "max       7520.000000\n",
       "Name: follow, dtype: float64"
      ]
     },
     "execution_count": 148,
     "metadata": {},
     "output_type": "execute_result"
    }
   ],
   "source": [
    "import seaborn as sns\n",
    "import matplotlib.pyplot as plt\n",
    "df['follow'].describe()"
   ]
  },
  {
   "cell_type": "code",
   "execution_count": 149,
   "metadata": {},
   "outputs": [
    {
     "data": {
      "text/plain": [
       "<matplotlib.axes._subplots.AxesSubplot at 0x241458ff788>"
      ]
     },
     "execution_count": 149,
     "metadata": {},
     "output_type": "execute_result"
    },
    {
     "data": {
      "image/png": "[encoded data removed]",
      "text/plain": [
       "<Figure size 432x288 with 1 Axes>"
      ]
     },
     "metadata": {
      "needs_background": "light"
     },
     "output_type": "display_data"
    }
   ],
   "source": [
    "sns.distplot(df['follow'],hist=False)"
   ]
  },
  {
   "cell_type": "code",
   "execution_count": 169,
   "metadata": {},
   "outputs": [
    {
     "data": {
      "text/plain": [
       "count    6.500000e+04\n",
       "mean     2.126555e+03\n",
       "std      1.048391e+05\n",
       "min     -7.388000e+03\n",
       "25%     -4.800000e+01\n",
       "50%      4.600000e+01\n",
       "75%      3.780000e+02\n",
       "max      2.626458e+07\n",
       "dtype: float64"
      ]
     },
     "execution_count": 169,
     "metadata": {},
     "output_type": "execute_result"
    },
    {
     "data": {
      "text/plain": [
       "count    58500.000000\n",
       "mean        15.701504\n",
       "std        703.213005\n",
       "min      -7388.000000\n",
       "25%        -65.000000\n",
       "50%         24.000000\n",
       "75%        221.000000\n",
       "max       1613.000000\n",
       "dtype: float64"
      ]
     },
     "execution_count": 169,
     "metadata": {},
     "output_type": "execute_result"
    }
   ],
   "source": [
    "followers_diff = (df['followedby']-df['follow'])\n",
    "followers_diff.describe()\n",
    "followers_diff = followers_diff.sort_values().head(58500)\n",
    "followers_diff.describe()"
   ]
  },
  {
   "cell_type": "code",
   "execution_count": 170,
   "metadata": {},
   "outputs": [
    {
     "data": {
      "text/plain": [
       "<matplotlib.axes._subplots.AxesSubplot at 0x24145a5f688>"
      ]
     },
     "execution_count": 170,
     "metadata": {},
     "output_type": "execute_result"
    },
    {
     "data": {
      "image/png": "[encoded data removed]",
      "text/plain": [
       "<Figure size 432x288 with 1 Axes>"
      ]
     },
     "metadata": {
      "needs_background": "light"
     },
     "output_type": "display_data"
    }
   ],
   "source": [
    "sns.distplot(followers_diff,hist=False)"
   ]
  },
  {
   "cell_type": "code",
   "execution_count": null,
   "metadata": {},
   "outputs": [],
   "source": []
  },
  {
   "cell_type": "code",
   "execution_count": null,
   "metadata": {},
   "outputs": [],
   "source": []
  },
  {
   "cell_type": "code",
   "execution_count": null,
   "metadata": {},
   "outputs": [],
   "source": []
  }
 ],
 "metadata": {
  "kernelspec": {
   "display_name": "Python 3",
   "language": "python",
   "name": "python3"
  },
  "language_info": {
   "codemirror_mode": {
    "name": "ipython",
    "version": 3
   },
   "file_extension": ".py",
   "mimetype": "text/x-python",
   "name": "python",
   "nbconvert_exporter": "python",
   "pygments_lexer": "ipython3",
   "version": "3.7.4"
  }
 },
 "nbformat": 4,
 "nbformat_minor": 2
}
