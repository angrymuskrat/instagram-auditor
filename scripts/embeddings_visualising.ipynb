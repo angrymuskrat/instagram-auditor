{
 "cells": [
  {
   "cell_type": "code",
   "execution_count": 1,
   "metadata": {},
   "outputs": [],
   "source": [
    "from pymongo import MongoClient\n",
    "import base64\n",
    "import io\n",
    "from PIL import Image\n",
    "import sys\n",
    "sys.path.insert(0, '../img2vec/')\n",
    "from img2vec import Image2Vec\n",
    "import threading\n",
    "from time import time\n",
    "import logging\n",
    "from pprint import pprint\n",
    "import pandas as pd\n",
    "\n",
    "\n",
    "username = 'username'\n",
    "fullname = 'fullname'\n",
    "biography = 'biography'\n",
    "followed_by = 'followedby'\n",
    "follow = 'follow'\n",
    "is_business_account = 'isbusinessaccount'\n",
    "is_joined_recently = 'isjoinedrecently'\n",
    "business_category_name = 'businesscategoryname'\n",
    "business_category_name = 'categoryid'\n",
    "is_private = 'isprivate'\n",
    "is_verified = 'isverified'\n",
    "has_connected_fb = 'connectedfbpage'\n",
    "profile_pic = 'profilepic'\n",
    "profile_pic_url = 'profilepicurl'\n",
    "posts_count = 'postscount'\n",
    "posts = 'posts'\n",
    "image = 'image'\n",
    "profile_pic_embedding = 'profilepicembedding'\n",
    "image_embedding = 'profilepicembedding'"
   ]
  },
  {
   "cell_type": "code",
   "execution_count": 2,
   "metadata": {},
   "outputs": [],
   "source": [
    "def setup_connection():\n",
    "\n",
    "    SERVER_IP = \"213.136.94.240\"\n",
    "    USERNAME = \"admin\"\n",
    "    PASSWORD = \"04061997\"\n",
    "\n",
    "    client = MongoClient(host=SERVER_IP, username=USERNAME, password=PASSWORD)\n",
    "    print(\"Client established\")\n",
    "\n",
    "    db = client.instagramAuditor\n",
    "    profiles = db.profiles\n",
    "    print(\"Collection retrieved\")\n",
    "    \n",
    "    return profiles"
   ]
  },
  {
   "cell_type": "code",
   "execution_count": 3,
   "metadata": {},
   "outputs": [
    {
     "name": "stdout",
     "output_type": "stream",
     "text": [
      "Client established\n",
      "Collection retrieved\n"
     ]
    }
   ],
   "source": [
    "profiles = setup_connection()"
   ]
  },
  {
   "cell_type": "code",
   "execution_count": 4,
   "metadata": {
    "scrolled": false
   },
   "outputs": [],
   "source": [
    "cursor = profiles.find({},{'profilepicembedding':1,'posts.profilepicembedding':1}).limit(10000)\n",
    "resulting_tsv = pd.DataFrame()\n",
    "for document in cursor: \n",
    "    #pprint(len(document['profilepicembedding']))\n",
    "    if('profilepicembedding' in document):\n",
    "        resulting_tsv = resulting_tsv.append(pd.DataFrame([document['profilepicembedding']]))\n",
    "    #if(len(document['posts']) > 0):\n",
    "    #    pprint(len(document['posts'][0]['profilepicembedding']))\n",
    "    \n",
    "\n",
    "resulting_tsv.to_csv('test1.tsv', sep = '\\t', header=False)"
   ]
  },
  {
   "cell_type": "code",
   "execution_count": 34,
   "metadata": {},
   "outputs": [
    {
     "data": {
      "text/html": [
       "<div>\n",
       "<style scoped>\n",
       "    .dataframe tbody tr th:only-of-type {\n",
       "        vertical-align: middle;\n",
       "    }\n",
       "\n",
       "    .dataframe tbody tr th {\n",
       "        vertical-align: top;\n",
       "    }\n",
       "\n",
       "    .dataframe thead th {\n",
       "        text-align: right;\n",
       "    }\n",
       "</style>\n",
       "<table border=\"1\" class=\"dataframe\">\n",
       "  <thead>\n",
       "    <tr style=\"text-align: right;\">\n",
       "      <th></th>\n",
       "      <th>0</th>\n",
       "      <th>1</th>\n",
       "      <th>2</th>\n",
       "      <th>3</th>\n",
       "    </tr>\n",
       "  </thead>\n",
       "  <tbody>\n",
       "    <tr>\n",
       "      <th>0</th>\n",
       "      <td>1</td>\n",
       "      <td>2</td>\n",
       "      <td>3</td>\n",
       "      <td>5</td>\n",
       "    </tr>\n",
       "    <tr>\n",
       "      <th>0</th>\n",
       "      <td>1</td>\n",
       "      <td>2</td>\n",
       "      <td>3</td>\n",
       "      <td>5</td>\n",
       "    </tr>\n",
       "  </tbody>\n",
       "</table>\n",
       "</div>"
      ],
      "text/plain": [
       "   0  1  2  3\n",
       "0  1  2  3  5\n",
       "0  1  2  3  5"
      ]
     },
     "execution_count": 34,
     "metadata": {},
     "output_type": "execute_result"
    }
   ],
   "source": [
    "''"
   ]
  },
  {
   "cell_type": "code",
   "execution_count": null,
   "metadata": {},
   "outputs": [],
   "source": []
  }
 ],
 "metadata": {
  "kernelspec": {
   "display_name": "Python 3",
   "language": "python",
   "name": "python3"
  },
  "language_info": {
   "codemirror_mode": {
    "name": "ipython",
    "version": 3
   },
   "file_extension": ".py",
   "mimetype": "text/x-python",
   "name": "python",
   "nbconvert_exporter": "python",
   "pygments_lexer": "ipython3",
   "version": "3.7.6"
  }
 },
 "nbformat": 4,
 "nbformat_minor": 4
}
